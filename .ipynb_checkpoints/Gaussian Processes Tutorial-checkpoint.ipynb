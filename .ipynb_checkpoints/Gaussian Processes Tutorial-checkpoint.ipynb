{
 "cells": [
  {
   "cell_type": "markdown",
   "metadata": {},
   "source": [
    "# Gaussian Processes \n",
    "\n",
    "\n",
    "Let us suppose we have a set of $x$ and $y$ data. We define the data vectors as\n",
    "\n",
    "$\\vec{x} = [x_1, ..., x_n]$,\n",
    "\n",
    "$\\vec{y} = [y_1, ..., y_n]$.\n",
    "\n",
    "Let us now, say that the data vector $\\vec{y}$, is sampled from a  multivariate Gaussian,\n",
    "\n",
    "$\\vec{y} \\sim \\text{Exp}[-\\frac{1}{2}(\\vec{x}-\\vec{\\mu})\\Sigma(\\vec{x}-\\vec{\\mu})^T]$\n"
   ]
  },
  {
   "cell_type": "markdown",
   "metadata": {},
   "source": [
    "## Conditional Probabilities \n",
    "\n",
    "Given that we are sampling from a multivariate Gaussian distribution, we are interested in what the probability of observing $y_k$ given the other observations $\\vec{y}_k = [y_1,...,y_{k-1},y_{k+1},...,y_n]$\n",
    "\n",
    "\n",
    "$P(y_k \\ | \\ \\vec{y}_k) = $"
   ]
  },
  {
   "cell_type": "code",
   "execution_count": null,
   "metadata": {
    "collapsed": true
   },
   "outputs": [],
   "source": []
  }
 ],
 "metadata": {
  "anaconda-cloud": {},
  "kernelspec": {
   "display_name": "Python [default]",
   "language": "python",
   "name": "python3"
  },
  "language_info": {
   "codemirror_mode": {
    "name": "ipython",
    "version": 3
   },
   "file_extension": ".py",
   "mimetype": "text/x-python",
   "name": "python",
   "nbconvert_exporter": "python",
   "pygments_lexer": "ipython3",
   "version": "3.5.2"
  }
 },
 "nbformat": 4,
 "nbformat_minor": 1
}
