{
 "cells": [
  {
   "cell_type": "markdown",
   "metadata": {},
   "source": [
    "# Gaussian Processes \n",
    "\n",
    "\n",
    "Let us suppose we have a set of $x$ and $y$ data. We define the data vectors as\n",
    "\n",
    "$\\vec{x} = [x_1, ..., x_n]$,\n",
    "\n",
    "$\\vec{y} = [y_1, ..., y_n]$.\n",
    "\n",
    "Let us now, say that the data vector $\\vec{y}$, is sampled from a  multivariate Gaussian,\n",
    "\n",
    "$\\vec{y} \\sim \\text{Exp}[-\\frac{1}{2}(\\vec{x}-\\vec{\\mu})\\Sigma(\\vec{x}-\\vec{\\mu})^T]$\n",
    "\n",
    "Therefore, the probality density $P(\\vec{x})$ is then defined as\n",
    "\n",
    "$P( \\ \\vec{x} \\ ) = \\mathcal{N}(\\mu \\ | \\ \\Sigma)$.\n"
   ]
  },
  {
   "cell_type": "markdown",
   "metadata": {},
   "source": [
    "## Conditional Probabilities \n",
    "\n",
    "Given that we are sampling from a multivariate Gaussian distribution, we are interested in what the probability of observing $y_*$ for a chosen $x_*$, given the other observations $\\vec{y} = [y_1,...,y_n]$\n",
    "\n",
    "\n",
    "$P(\\ y_* \\ | \\ \\vec{y} \\ ) = \\ P( \\ y_* \\ ,\\vec{y} \\ )/P(y_*)$\n",
    "\n",
    "where\n",
    "\n",
    "$P(y_*) = \\int \\ dx_1 ...  \\int \\ dx_{n} \\ P(y_*,\\vec{y}) $\n",
    "\n",
    "It can be shown that\n",
    "\n",
    "$P(y_* \\ | \\ \\vec{y}) \\sim N(m(x_*), \\sigma^2(x_*)) $\n",
    "\n",
    "where\n",
    "\n",
    "$m(x_*) = \\mu(x_*) + \\Sigma_* \\Sigma^{-1}\\vec{y}-vec{\\mu}\\right) $,\n",
    "\n",
    "$\\sigma^2(x_*) = \\Sigma_{**} - \\Sigma_* \\Sigma^{-1}\\Sigma^{T}_* $.\n",
    "\n",
    "$\\\\$\n",
    "\n",
    "$\\Sigma = \\begin{bmatrix} K(x_1,x_1) & ... &  K(x_1,x_n)  \\\\  \n",
    "\\vdots & ...  & \\vdots  \\\\ \n",
    "K(x_n,x_1) & ...  & K(x_n,x_n)  \\\\ \n",
    "\\end{bmatrix}$\n",
    "\n",
    "\n",
    "$\\Sigma_* = \\left[ K(x_*,x_1), ..., K(x_*,x_n) \\right]$,\n",
    "\n",
    "$\\Sigma_{**} = K(x_*,x_*)$,\n",
    "\n",
    "\n",
    "Here, the function $K(x,y)$ is the kernel function which is specified by the user.\n",
    "\n",
    "\n",
    "# Step-by-step Algorithm\n",
    "\n",
    "1. Use spline to fit data (x,y), this determines the mean function $\\mu(x)$\n",
    "2. Choose the value $x_*$ where we plan to make a prediction\n",
    "3. Construct the matrix $\\Sigma$, the vector $\\Sigma_*$, and the value $\\Sigma_{**}$\n",
    "4. Compute the functions $\\mu(x_*), \\ \\sigma^2(x_*)$ as given in the previous section. These are the predictions of the model "
   ]
  },
  {
   "cell_type": "code",
   "execution_count": null,
   "metadata": {
    "collapsed": true
   },
   "outputs": [],
   "source": []
  }
 ],
 "metadata": {
  "anaconda-cloud": {},
  "kernelspec": {
   "display_name": "Python [default]",
   "language": "python",
   "name": "python3"
  },
  "language_info": {
   "codemirror_mode": {
    "name": "ipython",
    "version": 3
   },
   "file_extension": ".py",
   "mimetype": "text/x-python",
   "name": "python",
   "nbconvert_exporter": "python",
   "pygments_lexer": "ipython3",
   "version": "3.5.2"
  }
 },
 "nbformat": 4,
 "nbformat_minor": 1
}
